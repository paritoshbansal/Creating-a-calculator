{
 "cells": [
  {
   "cell_type": "code",
   "execution_count": 1,
   "id": "8aae0529",
   "metadata": {},
   "outputs": [
    {
     "name": "stdout",
     "output_type": "stream",
     "text": [
      "wants to exit=no\n",
      "a=3\n",
      "b=2\n",
      "what you wants to do=add\n",
      "a+b= 5\n",
      "wants to exit=3\n",
      "only choose yes or no\n",
      "wants to exit=1\n",
      "only choose yes or no\n",
      "wants to exit=yes\n",
      "exit\n"
     ]
    }
   ],
   "source": [
    "class c():\n",
    "    def add(self,a,b):\n",
    "        print(\"a+b=\",a+b)\n",
    "    def sub(self,a,b):\n",
    "        print(\"a-b=\",a-b)\n",
    "    def mul(self,a,b):\n",
    "        print(\"a*b=\",a*b)\n",
    "    def dev(self,a,b):\n",
    "        print(\"a/b=\",a/b)\n",
    "    def selection(self):\n",
    "        while True:\n",
    "            x=input(\"wants to exit=\")\n",
    "            if x==\"yes\":\n",
    "                print(\"exit\")\n",
    "                break\n",
    "            elif x==\"no\": \n",
    "                a=int(input(\"a=\"))\n",
    "                b=int(input(\"b=\"))\n",
    "                y=input(\"what you wants to do=\")\n",
    "                if y==\"add\":\n",
    "                    self.add(a,b)\n",
    "                elif y==\"sub\":\n",
    "                    self.sub(a,b)\n",
    "                elif y==\"mul\":\n",
    "                    self.mul(a,b)\n",
    "                elif y==\"dev\":\n",
    "                    self.dev(a,b)\n",
    "                else:\n",
    "                    print(\"wrong input\")\n",
    "            else:\n",
    "                print(\"only choose yes or no\")\n",
    "c().selection()"
   ]
  },
  {
   "cell_type": "code",
   "execution_count": null,
   "id": "0b5bf4ba",
   "metadata": {},
   "outputs": [],
   "source": []
  }
 ],
 "metadata": {
  "kernelspec": {
   "display_name": "Python 3 (ipykernel)",
   "language": "python",
   "name": "python3"
  },
  "language_info": {
   "codemirror_mode": {
    "name": "ipython",
    "version": 3
   },
   "file_extension": ".py",
   "mimetype": "text/x-python",
   "name": "python",
   "nbconvert_exporter": "python",
   "pygments_lexer": "ipython3",
   "version": "3.11.4"
  }
 },
 "nbformat": 4,
 "nbformat_minor": 5
}
